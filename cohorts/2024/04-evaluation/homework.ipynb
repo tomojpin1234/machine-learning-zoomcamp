{
 "cells": [
  {
   "cell_type": "markdown",
   "metadata": {},
   "source": [
    "## Homework\n"
   ]
  },
  {
   "cell_type": "code",
   "execution_count": 69,
   "metadata": {},
   "outputs": [],
   "source": [
    "import pandas as pd\n",
    "import numpy as np\n",
    "import matplotlib.pyplot as plt\n",
    "\n",
    "from sklearn.feature_extraction import DictVectorizer\n",
    "from sklearn.linear_model import LogisticRegression\n",
    "\n",
    "from sklearn.metrics import roc_curve\n",
    "from sklearn.metrics import auc\n",
    "from sklearn.metrics import roc_auc_score"
   ]
  },
  {
   "cell_type": "markdown",
   "metadata": {},
   "source": [
    "### Loading data\n"
   ]
  },
  {
   "cell_type": "code",
   "execution_count": 70,
   "metadata": {},
   "outputs": [
    {
     "data": {
      "text/html": [
       "<div>\n",
       "<style scoped>\n",
       "    .dataframe tbody tr th:only-of-type {\n",
       "        vertical-align: middle;\n",
       "    }\n",
       "\n",
       "    .dataframe tbody tr th {\n",
       "        vertical-align: top;\n",
       "    }\n",
       "\n",
       "    .dataframe thead th {\n",
       "        text-align: right;\n",
       "    }\n",
       "</style>\n",
       "<table border=\"1\" class=\"dataframe\">\n",
       "  <thead>\n",
       "    <tr style=\"text-align: right;\">\n",
       "      <th></th>\n",
       "      <th>0</th>\n",
       "      <th>1</th>\n",
       "      <th>2</th>\n",
       "      <th>3</th>\n",
       "      <th>4</th>\n",
       "    </tr>\n",
       "  </thead>\n",
       "  <tbody>\n",
       "    <tr>\n",
       "      <th>age</th>\n",
       "      <td>58</td>\n",
       "      <td>44</td>\n",
       "      <td>33</td>\n",
       "      <td>47</td>\n",
       "      <td>33</td>\n",
       "    </tr>\n",
       "    <tr>\n",
       "      <th>job</th>\n",
       "      <td>management</td>\n",
       "      <td>technician</td>\n",
       "      <td>entrepreneur</td>\n",
       "      <td>blue-collar</td>\n",
       "      <td>unknown</td>\n",
       "    </tr>\n",
       "    <tr>\n",
       "      <th>marital</th>\n",
       "      <td>married</td>\n",
       "      <td>single</td>\n",
       "      <td>married</td>\n",
       "      <td>married</td>\n",
       "      <td>single</td>\n",
       "    </tr>\n",
       "    <tr>\n",
       "      <th>education</th>\n",
       "      <td>tertiary</td>\n",
       "      <td>secondary</td>\n",
       "      <td>secondary</td>\n",
       "      <td>unknown</td>\n",
       "      <td>unknown</td>\n",
       "    </tr>\n",
       "    <tr>\n",
       "      <th>balance</th>\n",
       "      <td>2143</td>\n",
       "      <td>29</td>\n",
       "      <td>2</td>\n",
       "      <td>1506</td>\n",
       "      <td>1</td>\n",
       "    </tr>\n",
       "    <tr>\n",
       "      <th>housing</th>\n",
       "      <td>yes</td>\n",
       "      <td>yes</td>\n",
       "      <td>yes</td>\n",
       "      <td>yes</td>\n",
       "      <td>no</td>\n",
       "    </tr>\n",
       "    <tr>\n",
       "      <th>contact</th>\n",
       "      <td>unknown</td>\n",
       "      <td>unknown</td>\n",
       "      <td>unknown</td>\n",
       "      <td>unknown</td>\n",
       "      <td>unknown</td>\n",
       "    </tr>\n",
       "    <tr>\n",
       "      <th>day</th>\n",
       "      <td>5</td>\n",
       "      <td>5</td>\n",
       "      <td>5</td>\n",
       "      <td>5</td>\n",
       "      <td>5</td>\n",
       "    </tr>\n",
       "    <tr>\n",
       "      <th>month</th>\n",
       "      <td>may</td>\n",
       "      <td>may</td>\n",
       "      <td>may</td>\n",
       "      <td>may</td>\n",
       "      <td>may</td>\n",
       "    </tr>\n",
       "    <tr>\n",
       "      <th>duration</th>\n",
       "      <td>261</td>\n",
       "      <td>151</td>\n",
       "      <td>76</td>\n",
       "      <td>92</td>\n",
       "      <td>198</td>\n",
       "    </tr>\n",
       "    <tr>\n",
       "      <th>campaign</th>\n",
       "      <td>1</td>\n",
       "      <td>1</td>\n",
       "      <td>1</td>\n",
       "      <td>1</td>\n",
       "      <td>1</td>\n",
       "    </tr>\n",
       "    <tr>\n",
       "      <th>pdays</th>\n",
       "      <td>-1</td>\n",
       "      <td>-1</td>\n",
       "      <td>-1</td>\n",
       "      <td>-1</td>\n",
       "      <td>-1</td>\n",
       "    </tr>\n",
       "    <tr>\n",
       "      <th>previous</th>\n",
       "      <td>0</td>\n",
       "      <td>0</td>\n",
       "      <td>0</td>\n",
       "      <td>0</td>\n",
       "      <td>0</td>\n",
       "    </tr>\n",
       "    <tr>\n",
       "      <th>poutcome</th>\n",
       "      <td>unknown</td>\n",
       "      <td>unknown</td>\n",
       "      <td>unknown</td>\n",
       "      <td>unknown</td>\n",
       "      <td>unknown</td>\n",
       "    </tr>\n",
       "    <tr>\n",
       "      <th>y</th>\n",
       "      <td>0</td>\n",
       "      <td>0</td>\n",
       "      <td>0</td>\n",
       "      <td>0</td>\n",
       "      <td>0</td>\n",
       "    </tr>\n",
       "  </tbody>\n",
       "</table>\n",
       "</div>"
      ],
      "text/plain": [
       "                    0           1             2            3        4\n",
       "age                58          44            33           47       33\n",
       "job        management  technician  entrepreneur  blue-collar  unknown\n",
       "marital       married      single       married      married   single\n",
       "education    tertiary   secondary     secondary      unknown  unknown\n",
       "balance          2143          29             2         1506        1\n",
       "housing           yes         yes           yes          yes       no\n",
       "contact       unknown     unknown       unknown      unknown  unknown\n",
       "day                 5           5             5            5        5\n",
       "month             may         may           may          may      may\n",
       "duration          261         151            76           92      198\n",
       "campaign            1           1             1            1        1\n",
       "pdays              -1          -1            -1           -1       -1\n",
       "previous            0           0             0            0        0\n",
       "poutcome      unknown     unknown       unknown      unknown  unknown\n",
       "y                   0           0             0            0        0"
      ]
     },
     "execution_count": 70,
     "metadata": {},
     "output_type": "execute_result"
    }
   ],
   "source": [
    "def load_csv():\n",
    "    df = pd.read_csv(\"bank-full.csv\", sep=\";\")\n",
    "    return df\n",
    "\n",
    "\n",
    "df = load_csv()\n",
    "df.head().T\n",
    "\n",
    "features = [\n",
    "    \"age\",\n",
    "    \"job\",\n",
    "    \"marital\",\n",
    "    \"education\",\n",
    "    \"balance\",\n",
    "    \"housing\",\n",
    "    \"contact\",\n",
    "    \"day\",\n",
    "    \"month\",\n",
    "    \"duration\",\n",
    "    \"campaign\",\n",
    "    \"pdays\",\n",
    "    \"previous\",\n",
    "    \"poutcome\",\n",
    "    \"y\",\n",
    "]\n",
    "\n",
    "df = df[features]\n",
    "\n",
    "df.y = (df.y == \"yes\").astype(int)\n",
    "df.columns = df.columns.str.lower().str.replace(\" \", \"_\")\n",
    "df.head().T"
   ]
  },
  {
   "cell_type": "code",
   "execution_count": 71,
   "metadata": {},
   "outputs": [
    {
     "name": "stdout",
     "output_type": "stream",
     "text": [
      "\n",
      "age   int64\n",
      " [58 44 33 47 35 28 42 43 41 29 53 57 51 45 60 56 32 25 40 39 52 46 36 49\n",
      " 59 37 50 54 55 48 24 38 31 30 27 34 23 26 61 22 21 20 66 62 83 75 67 70\n",
      " 65 68 64 69 72 71 19 76 85 63 90 82 73 74 78 80 94 79 77 86 95 81 18 89\n",
      " 84 87 92 93 88]\n",
      " 77\n",
      "\n",
      "job   object\n",
      " ['management' 'technician' 'entrepreneur' 'blue-collar' 'unknown'\n",
      " 'retired' 'admin.' 'services' 'self-employed' 'unemployed' 'housemaid'\n",
      " 'student']\n",
      " 12\n",
      "\n",
      "marital   object\n",
      " ['married' 'single' 'divorced']\n",
      " 3\n",
      "\n",
      "education   object\n",
      " ['tertiary' 'secondary' 'unknown' 'primary']\n",
      " 4\n",
      "\n",
      "balance   int64\n",
      " [ 2143    29     2 ...  8205 14204 16353]\n",
      " 7168\n",
      "\n",
      "housing   object\n",
      " ['yes' 'no']\n",
      " 2\n",
      "\n",
      "contact   object\n",
      " ['unknown' 'cellular' 'telephone']\n",
      " 3\n",
      "\n",
      "day   int64\n",
      " [ 5  6  7  8  9 12 13 14 15 16 19 20 21 23 26 27 28 29 30  2  3  4 11 17\n",
      " 18 24 25  1 10 22 31]\n",
      " 31\n",
      "\n",
      "month   object\n",
      " ['may' 'jun' 'jul' 'aug' 'oct' 'nov' 'dec' 'jan' 'feb' 'mar' 'apr' 'sep']\n",
      " 12\n",
      "\n",
      "duration   int64\n",
      " [ 261  151   76 ... 1298 1246 1556]\n",
      " 1573\n",
      "\n",
      "campaign   int64\n",
      " [ 1  2  3  5  4  6  7  8  9 10 11 12 13 19 14 24 16 32 18 22 15 17 25 21\n",
      " 43 51 63 41 26 28 55 50 38 23 20 29 31 37 30 46 27 58 33 35 34 36 39 44]\n",
      " 48\n",
      "\n",
      "pdays   int64\n",
      " [ -1 151 166  91  86 143 147  89 140 176 101 174 170 167 195 165 129 188\n",
      " 196 172 118 119 104 171 117 164 132 131 123 159 186 111 115 116 173 178\n",
      " 110 152  96 103 150 175 193 181 185 154 145 138 126 180 109 158 168  97\n",
      " 182 127 130 194 125 105 102  26 179  28 183 155 112 120 137 124 187 190\n",
      " 113 162 134 169 189   8 144 191 184 177   5  99 133  93  92  10 100 156\n",
      " 198 106 153 146 128   7 121 160 107  90  27 197 136 139 122 157 149 135\n",
      "  30 114  98 192 163  34  95 141  31 199  94 108  29 268 247 253 226 244\n",
      " 239 245 204 231 238 258 230 254 265  71 223 246 250 266 240 205 261 259\n",
      " 241 260 234 251 225 161 237 262 248 255 220 227 206 224 249 235 228 263\n",
      "   2 270 232 252 207 200 269 233 256 273 272 242 264 208 214 222 271 203\n",
      " 221 202 216 201 257 229 210 217  75 213  73  76 267 211 215  77 236  82\n",
      "   6 209 274   1 243 212 275  80 276   9 279  12 280  88 277  85  84 219\n",
      "  24  21 282  41 294  49 329 307 303 331 308 300  64 314 287 330 332 302\n",
      " 323 318 333  60 326 335 313 312 305 325 327 336 309 328 322  39 316 292\n",
      " 295 310 306 320 317 289  57 321 142 339 301 315 337 334 340 319  17  74\n",
      " 148 341 299 344 342 324 345 346 304 281 343 338  14 347  15 291 348 349\n",
      " 285 350 284  25 283 278  81   4  87  83  79  70  13 293  37  78  63  22\n",
      " 296 355  66  19  35 360 357 354 351 362 358 365 298 286 364 363  47 361\n",
      " 288 366 356 352 359 297 367 353 368  42 290  67 371 370 369  50  36 373\n",
      " 374 372 311 375 378  59 379  40  18  43  20  69  38 385  56  55  44 391\n",
      "  72 390  32  62 399 393  65 377 395 388 389 386  61 412 405 434 394 382\n",
      " 459 440 397 383  68 461 462 463 422  51 457 430 442 403 454 428 392 410\n",
      " 401 474 475 477 478  54 476 380 479  45  46 495  58  48 518  52 515 520\n",
      " 511 536 387 218  33 544 435 436 555 433 446 558 469 616 561 553 384 592\n",
      " 467 585 480 421 667 626 426 595 381 376 648 521 452 449 633 398  53 460\n",
      " 670 551 414 557 687 404 651 686 425 504 578 674 416 586 411 756 450 745\n",
      " 514 417 424 776 396 683 529 439 415 456 407 458 532 481 791 701 531 792\n",
      " 413 445 535 784 419 455 491 431 542 470 472 717 437   3 782 728 828 524\n",
      " 562 761 492 775 579 493 464 760 466 465 656 831 490 432 655 427 749 838\n",
      " 769 587 778 854 779 850 771 594 842 589 603 484 489 486 409 444 680 808\n",
      " 485 503 690 772 774 526 420 528 500 826 804 508 547 805 541 543 871 550\n",
      " 530]\n",
      " 559\n",
      "\n",
      "previous   int64\n",
      " [  0   3   1   4   2  11  16   6   5  10  12   7  18   9  21   8  14  15\n",
      "  26  37  13  25  20  27  17  23  38  29  24  51 275  22  19  30  58  28\n",
      "  32  40  55  35  41]\n",
      " 41\n",
      "\n",
      "poutcome   object\n",
      " ['unknown' 'failure' 'other' 'success']\n",
      " 4\n",
      "\n",
      "y   int64\n",
      " [0 1]\n",
      " 2\n"
     ]
    }
   ],
   "source": [
    "for feature in features:\n",
    "    print(\"\")\n",
    "    print(feature, \" \", df[feature].dtype)\n",
    "    print(\"\", df[feature].unique())\n",
    "    print(\"\", df[feature].nunique())\n"
   ]
  },
  {
   "cell_type": "code",
   "execution_count": 72,
   "metadata": {},
   "outputs": [
    {
     "data": {
      "text/plain": [
       "True"
      ]
     },
     "execution_count": 72,
     "metadata": {},
     "output_type": "execute_result"
    }
   ],
   "source": [
    "numerical = [\n",
    "    \"age\",\n",
    "    \"balance\",\n",
    "    \"day\",\n",
    "    \"duration\",\n",
    "    \"campaign\",\n",
    "    \"pdays\",\n",
    "    \"previous\",\n",
    "]\n",
    "\n",
    "categorical = [    \n",
    "    \"job\",\n",
    "    \"marital\",\n",
    "    \"education\",    \n",
    "    \"housing\",\n",
    "    \"contact\",    \n",
    "    \"month\",                \n",
    "    \"poutcome\",    \n",
    "]\n",
    "\n",
    "set(features) == set(numerical + categorical + [\"y\"])\n"
   ]
  },
  {
   "cell_type": "markdown",
   "metadata": {},
   "source": [
    "### Dataset preparation\n"
   ]
  },
  {
   "cell_type": "code",
   "execution_count": 73,
   "metadata": {},
   "outputs": [
    {
     "data": {
      "text/html": [
       "<div>\n",
       "<style scoped>\n",
       "    .dataframe tbody tr th:only-of-type {\n",
       "        vertical-align: middle;\n",
       "    }\n",
       "\n",
       "    .dataframe tbody tr th {\n",
       "        vertical-align: top;\n",
       "    }\n",
       "\n",
       "    .dataframe thead th {\n",
       "        text-align: right;\n",
       "    }\n",
       "</style>\n",
       "<table border=\"1\" class=\"dataframe\">\n",
       "  <thead>\n",
       "    <tr style=\"text-align: right;\">\n",
       "      <th></th>\n",
       "      <th>0</th>\n",
       "      <th>1</th>\n",
       "      <th>2</th>\n",
       "      <th>3</th>\n",
       "      <th>4</th>\n",
       "    </tr>\n",
       "  </thead>\n",
       "  <tbody>\n",
       "    <tr>\n",
       "      <th>age</th>\n",
       "      <td>56</td>\n",
       "      <td>33</td>\n",
       "      <td>32</td>\n",
       "      <td>40</td>\n",
       "      <td>54</td>\n",
       "    </tr>\n",
       "    <tr>\n",
       "      <th>job</th>\n",
       "      <td>entrepreneur</td>\n",
       "      <td>technician</td>\n",
       "      <td>technician</td>\n",
       "      <td>admin.</td>\n",
       "      <td>unemployed</td>\n",
       "    </tr>\n",
       "    <tr>\n",
       "      <th>marital</th>\n",
       "      <td>married</td>\n",
       "      <td>married</td>\n",
       "      <td>single</td>\n",
       "      <td>divorced</td>\n",
       "      <td>married</td>\n",
       "    </tr>\n",
       "    <tr>\n",
       "      <th>education</th>\n",
       "      <td>tertiary</td>\n",
       "      <td>secondary</td>\n",
       "      <td>tertiary</td>\n",
       "      <td>secondary</td>\n",
       "      <td>tertiary</td>\n",
       "    </tr>\n",
       "    <tr>\n",
       "      <th>balance</th>\n",
       "      <td>40</td>\n",
       "      <td>4790</td>\n",
       "      <td>392</td>\n",
       "      <td>2129</td>\n",
       "      <td>1180</td>\n",
       "    </tr>\n",
       "    <tr>\n",
       "      <th>housing</th>\n",
       "      <td>no</td>\n",
       "      <td>yes</td>\n",
       "      <td>yes</td>\n",
       "      <td>no</td>\n",
       "      <td>no</td>\n",
       "    </tr>\n",
       "    <tr>\n",
       "      <th>contact</th>\n",
       "      <td>cellular</td>\n",
       "      <td>cellular</td>\n",
       "      <td>cellular</td>\n",
       "      <td>cellular</td>\n",
       "      <td>cellular</td>\n",
       "    </tr>\n",
       "    <tr>\n",
       "      <th>day</th>\n",
       "      <td>11</td>\n",
       "      <td>20</td>\n",
       "      <td>21</td>\n",
       "      <td>30</td>\n",
       "      <td>19</td>\n",
       "    </tr>\n",
       "    <tr>\n",
       "      <th>month</th>\n",
       "      <td>jul</td>\n",
       "      <td>apr</td>\n",
       "      <td>nov</td>\n",
       "      <td>apr</td>\n",
       "      <td>nov</td>\n",
       "    </tr>\n",
       "    <tr>\n",
       "      <th>duration</th>\n",
       "      <td>123</td>\n",
       "      <td>137</td>\n",
       "      <td>148</td>\n",
       "      <td>452</td>\n",
       "      <td>394</td>\n",
       "    </tr>\n",
       "    <tr>\n",
       "      <th>campaign</th>\n",
       "      <td>2</td>\n",
       "      <td>1</td>\n",
       "      <td>2</td>\n",
       "      <td>1</td>\n",
       "      <td>2</td>\n",
       "    </tr>\n",
       "    <tr>\n",
       "      <th>pdays</th>\n",
       "      <td>-1</td>\n",
       "      <td>272</td>\n",
       "      <td>-1</td>\n",
       "      <td>-1</td>\n",
       "      <td>-1</td>\n",
       "    </tr>\n",
       "    <tr>\n",
       "      <th>previous</th>\n",
       "      <td>0</td>\n",
       "      <td>2</td>\n",
       "      <td>0</td>\n",
       "      <td>0</td>\n",
       "      <td>0</td>\n",
       "    </tr>\n",
       "    <tr>\n",
       "      <th>poutcome</th>\n",
       "      <td>unknown</td>\n",
       "      <td>failure</td>\n",
       "      <td>unknown</td>\n",
       "      <td>unknown</td>\n",
       "      <td>unknown</td>\n",
       "    </tr>\n",
       "  </tbody>\n",
       "</table>\n",
       "</div>"
      ],
      "text/plain": [
       "                      0           1           2          3           4\n",
       "age                  56          33          32         40          54\n",
       "job        entrepreneur  technician  technician     admin.  unemployed\n",
       "marital         married     married      single   divorced     married\n",
       "education      tertiary   secondary    tertiary  secondary    tertiary\n",
       "balance              40        4790         392       2129        1180\n",
       "housing              no         yes         yes         no          no\n",
       "contact        cellular    cellular    cellular   cellular    cellular\n",
       "day                  11          20          21         30          19\n",
       "month               jul         apr         nov        apr         nov\n",
       "duration            123         137         148        452         394\n",
       "campaign              2           1           2          1           2\n",
       "pdays                -1         272          -1         -1          -1\n",
       "previous              0           2           0          0           0\n",
       "poutcome        unknown     failure     unknown    unknown     unknown"
      ]
     },
     "execution_count": 73,
     "metadata": {},
     "output_type": "execute_result"
    }
   ],
   "source": [
    "from sklearn.model_selection import train_test_split\n",
    "\n",
    "\n",
    "df_full_train, df_test = train_test_split(df, test_size=0.2, random_state=1)\n",
    "df_train, df_val = train_test_split(df_full_train, test_size=0.25, random_state=1)\n",
    "\n",
    "df.shape[0], df_train.shape[0], df_val.shape[0], df_test.shape[0], df_train.shape[\n",
    "    0\n",
    "] + df_val.shape[0] + df_test.shape[0]\n",
    "\n",
    "df_full_train = df_full_train.reset_index(drop=True)\n",
    "df_train = df_train.reset_index(drop=True)\n",
    "df_val = df_val.reset_index(drop=True)\n",
    "df_test = df_test.reset_index(drop=True)\n",
    "\n",
    "y_full_train = df_full_train.y.values\n",
    "y_train = df_train.y.values\n",
    "y_val = df_val.y.values\n",
    "y_test = df_test.y.values\n",
    "\n",
    "del df_full_train[\"y\"]\n",
    "del df_train[\"y\"]\n",
    "del df_val[\"y\"]\n",
    "del df_test[\"y\"]\n",
    "\n",
    "df_train.head().T"
   ]
  },
  {
   "cell_type": "markdown",
   "metadata": {},
   "source": [
    "## Question 1: ROC AUC feature importance\n",
    "\n",
    "ROC AUC could also be used to evaluate feature importance of numerical variables.\n",
    "\n",
    "Let's do that\n",
    "\n",
    "- For each numerical variable, use it as score (aka prediction) and compute the AUC with the y variable as ground truth.\n",
    "  Use the training dataset for that\n",
    "- If your AUC is < 0.5, invert this variable by putting \"-\" in front\n",
    "\n",
    "> (e.g. -df_train['engine_hp'])\n",
    "\n",
    "AUC can go below 0.5 if the variable is negatively correlated with the target variable. You can change the direction of the correlation by negating this variable - then negative correlation becomes positive.\n",
    "\n",
    "Which numerical variable (among the following 4) has the highest AUC?\n",
    "\n",
    "- balance\n",
    "- day\n",
    "- duration\n",
    "- previous\n"
   ]
  },
  {
   "cell_type": "code",
   "execution_count": 74,
   "metadata": {},
   "outputs": [
    {
     "data": {
      "text/plain": [
       "[('duration', 0.8147002759670778),\n",
       " ('previous', 0.5985653242764153),\n",
       " ('balance', 0.5888313805382317),\n",
       " ('day', 0.525957882383908)]"
      ]
     },
     "execution_count": 74,
     "metadata": {},
     "output_type": "execute_result"
    },
    {
     "data": {
      "image/png": "[encoded data removed]",
      "text/plain": [
       "<Figure size 640x480 with 1 Axes>"
      ]
     },
     "metadata": {},
     "output_type": "display_data"
    }
   ],
   "source": [
    "answers = [\n",
    "    \"balance\",\n",
    "    \"day\",\n",
    "    \"duration\",\n",
    "    \"previous\"\n",
    "]\n",
    "\n",
    "scores = {}\n",
    "\n",
    "def calculate_auc(df_train, feature, invert=False):\n",
    "    if invert:\n",
    "        y_pred = -df_train[feature].values\n",
    "    else:\n",
    "        y_pred = df_train[feature].values\n",
    "    score = roc_auc_score(y_train, y_pred)\n",
    "    if score < 0.5 and not invert:        \n",
    "        return calculate_auc(df_train, feature, invert=True)        \n",
    "    return score, y_pred\n",
    "\n",
    "for feature in answers:    \n",
    "    score, y_pred = calculate_auc(df_train, feature)\n",
    "    scores[feature] = score\n",
    "    fpr, tpr, thresholds = roc_curve(y_train, y_pred)\n",
    "    plt.plot(fpr, tpr, label=f\"AUC for {feature}\")\n",
    "    \n",
    "plt.plot([0, 1], [0, 1], color='gray', linestyle='--')\n",
    "# plt.xlabel(\"feature\")\n",
    "# plt.ylabel(\"y\")\n",
    "plt.legend()\n",
    "\n",
    "\n",
    "sorted_scores = sorted(scores.items(), key=lambda item: item[1], reverse=True)\n",
    "sorted_scores\n",
    "\n",
    "# Answer is `duration``"
   ]
  },
  {
   "cell_type": "markdown",
   "metadata": {},
   "source": [
    "### Question 1: tests\n"
   ]
  },
  {
   "cell_type": "code",
   "execution_count": 75,
   "metadata": {},
   "outputs": [
    {
     "name": "stderr",
     "output_type": "stream",
     "text": [
      "/usr/local/anaconda3/envs/ml-zoomcamp/lib/python3.11/site-packages/sklearn/linear_model/_logistic.py:469: ConvergenceWarning: lbfgs failed to converge (status=1):\n",
      "STOP: TOTAL NO. of ITERATIONS REACHED LIMIT.\n",
      "\n",
      "Increase the number of iterations (max_iter) or scale the data as shown in:\n",
      "    https://scikit-learn.org/stable/modules/preprocessing.html\n",
      "Please also refer to the documentation for alternative solver options:\n",
      "    https://scikit-learn.org/stable/modules/linear_model.html#logistic-regression\n",
      "  n_iter_i = _check_optimize_result(\n"
     ]
    },
    {
     "data": {
      "text/plain": [
       "0.89"
      ]
     },
     "execution_count": 75,
     "metadata": {},
     "output_type": "execute_result"
    }
   ],
   "source": [
    "train_features = categorical + numerical \n",
    "\n",
    "train_dicts = df_train[train_features].to_dict(orient='records')\n",
    "train_dicts\n",
    "dv = DictVectorizer(sparse=False)\n",
    "X_train = dv.fit_transform(train_dicts)\n",
    "\n",
    "val_dicts = df_val[train_features].to_dict(orient='records')\n",
    "X_val = dv.transform(val_dicts)\n",
    "\n",
    "model = LogisticRegression()\n",
    "model.fit(X_train, y_train)\n",
    "\n",
    "y_pred = model.predict_proba(X_val)[:, 1]\n",
    "sub_pred = (y_pred >= 0.5).astype(int)\n",
    "# Accuracy\n",
    "accuracy = round((sub_pred == y_val).mean(), 2)\n",
    "accuracy\n"
   ]
  },
  {
   "cell_type": "code",
   "execution_count": 76,
   "metadata": {},
   "outputs": [
    {
     "data": {
      "text/plain": [
       "<matplotlib.legend.Legend at 0x14f3e7f90>"
      ]
     },
     "execution_count": 76,
     "metadata": {},
     "output_type": "execute_result"
    },
    {
     "data": {
      "image/png": "[encoded data removed]",
      "text/plain": [
       "<Figure size 640x480 with 1 Axes>"
      ]
     },
     "metadata": {},
     "output_type": "display_data"
    }
   ],
   "source": [
    "fpr, tpr, thresholds = roc_curve(y_val, y_pred)\n",
    "\n",
    "plt.plot(fpr, tpr, label=\"model\")\n",
    "plt.plot([0, 1], [0, 1])\n",
    "\n",
    "\n",
    "plt.xlabel(\"FPR\")\n",
    "plt.ylabel(\"TPR\")\n",
    "\n",
    "plt.legend()"
   ]
  },
  {
   "cell_type": "code",
   "execution_count": 77,
   "metadata": {},
   "outputs": [
    {
     "data": {
      "text/plain": [
       "0.8419658236067775"
      ]
     },
     "execution_count": 77,
     "metadata": {},
     "output_type": "execute_result"
    }
   ],
   "source": [
    "auc(fpr, tpr)"
   ]
  },
  {
   "cell_type": "code",
   "execution_count": 78,
   "metadata": {},
   "outputs": [
    {
     "data": {
      "text/plain": [
       "0.8419658236067775"
      ]
     },
     "execution_count": 78,
     "metadata": {},
     "output_type": "execute_result"
    }
   ],
   "source": [
    "roc_auc_score(y_val, y_pred)"
   ]
  },
  {
   "cell_type": "code",
   "execution_count": 79,
   "metadata": {},
   "outputs": [
    {
     "data": {
      "text/plain": [
       "['age', 'balance', 'day', 'duration', 'campaign', 'pdays', 'previous']"
      ]
     },
     "execution_count": 79,
     "metadata": {},
     "output_type": "execute_result"
    }
   ],
   "source": [
    "numerical"
   ]
  },
  {
   "cell_type": "code",
   "execution_count": 80,
   "metadata": {},
   "outputs": [
    {
     "data": {
      "text/plain": [
       "[('duration', 0.7965344730967409),\n",
       " ('previous', 0.607255799705406),\n",
       " ('balance', 0.5995068851725284),\n",
       " ('pdays', 0.596249681284474),\n",
       " ('campaign', 0.5762433459535511),\n",
       " ('day', 0.5352198426324892),\n",
       " ('age', 0.5019686989252637)]"
      ]
     },
     "execution_count": 80,
     "metadata": {},
     "output_type": "execute_result"
    }
   ],
   "source": [
    "def train(df, y_train, train_features):\n",
    "    dicts = df[train_features].to_dict(orient='records')\n",
    "    dv = DictVectorizer(sparse=False)\n",
    "    X = dv.fit_transform(dicts)\n",
    "    model = LogisticRegression()\n",
    "    model.fit(X, y_train)\n",
    "    return dv, model\n",
    "\n",
    "def predict(df, dv, model, train_features):\n",
    "    dicts = df[train_features].to_dict(orient='records')\n",
    "    X = dv.transform(dicts)\n",
    "    return model.predict_proba(X)[:, 1]\n",
    "\n",
    "scores = {}\n",
    "\n",
    "for n in numerical:\n",
    "    dv, model = train(df_train, y_train, [n])\n",
    "    y_pred = predict(df_val, dv, model, [n])\n",
    "    score = roc_auc_score(y_val, y_pred)\n",
    "    scores[n] = score\n",
    "\n",
    "sorted_scores = sorted(scores.items(), key=lambda item: item[1], reverse=True)\n",
    "sorted_scores    "
   ]
  },
  {
   "cell_type": "code",
   "execution_count": 81,
   "metadata": {},
   "outputs": [
    {
     "data": {
      "text/plain": [
       "[('duration', 0.7965344730967409),\n",
       " ('previous', 0.607255799705406),\n",
       " ('balance', 0.5995068851725284),\n",
       " ('pdays', 0.596249681284474),\n",
       " ('campaign', 0.5762433459535511),\n",
       " ('day', 0.5352198426324892),\n",
       " ('age', 0.5019686989252637)]"
      ]
     },
     "execution_count": 81,
     "metadata": {},
     "output_type": "execute_result"
    }
   ],
   "source": [
    "scores = {}\n",
    "\n",
    "for n in numerical:\n",
    "    dv, model = train(df_full_train, y_full_train, [n])\n",
    "    y_pred = predict(df_val, dv, model, [n])\n",
    "\n",
    "    score = roc_auc_score(y_val, y_pred)\n",
    "    scores[n] = score\n",
    "\n",
    "sorted_scores = sorted(scores.items(), key=lambda item: item[1], reverse=True)\n",
    "sorted_scores    \n"
   ]
  },
  {
   "cell_type": "code",
   "execution_count": 82,
   "metadata": {},
   "outputs": [
    {
     "data": {
      "text/plain": [
       "<matplotlib.legend.Legend at 0x15427f390>"
      ]
     },
     "execution_count": 82,
     "metadata": {},
     "output_type": "execute_result"
    },
    {
     "data": {
      "image/png": "[encoded data removed]",
      "text/plain": [
       "<Figure size 640x480 with 1 Axes>"
      ]
     },
     "metadata": {},
     "output_type": "display_data"
    }
   ],
   "source": [
    "answers = [\n",
    "    \"balance\",\n",
    "    \"day\",\n",
    "    \"duration\",\n",
    "    \"previous\"\n",
    "]\n",
    "\n",
    "for n in answers:\n",
    "    dv, model = train(df_full_train, y_full_train, [n])\n",
    "    y_pred = predict(df_val, dv, model, [n])\n",
    "\n",
    "    fpr, tpr, thresholds = roc_curve(y_val, y_pred)\n",
    "\n",
    "    plt.plot(fpr, tpr, label=f\"AUC for {n}\")\n",
    "    \n",
    "\n",
    "plt.plot([0, 1], [0, 1], color='red')\n",
    "plt.xlabel(\"FPR\")\n",
    "plt.ylabel(\"TPR\")\n",
    "\n",
    "plt.legend()"
   ]
  },
  {
   "cell_type": "markdown",
   "metadata": {},
   "source": [
    "## Question 2: Training the model\n",
    "\n",
    "Apply one-hot-encoding using DictVectorizer and train the logistic regression with these parameters:\n",
    "\n",
    "> LogisticRegression(solver='liblinear', C=1.0, max_iter=1000)\n",
    "\n",
    "What's the AUC of this model on the validation dataset? (round to 3 digits)\n",
    "\n",
    "- 0.69\n",
    "- 0.79\n",
    "- 0.89\n",
    "- 0.99\n"
   ]
  },
  {
   "cell_type": "code",
   "execution_count": 83,
   "metadata": {},
   "outputs": [
    {
     "data": {
      "text/plain": [
       "(0.8999653998756322, 0.8999653998756322)"
      ]
     },
     "execution_count": 83,
     "metadata": {},
     "output_type": "execute_result"
    }
   ],
   "source": [
    "def train(df, y_train, features, C):    \n",
    "    dicts = df[features].to_dict(orient='records')\n",
    "    dv = DictVectorizer(sparse=False)\n",
    "    X = dv.fit_transform(dicts)\n",
    "    model = LogisticRegression(solver='liblinear', C=C, max_iter=1000)\n",
    "    model.fit(X, y_train)\n",
    "    return dv, model\n",
    "\n",
    "def predict(df, dv, model, features):\n",
    "    dicts = df[features].to_dict(orient='records')\n",
    "    X = dv.transform(dicts)\n",
    "    y_pred = model.predict_proba(X)[:, 1]\n",
    "    return y_pred\n",
    "\n",
    "train_features = categorical + numerical\n",
    "dv, model = train(df_train, y_train, train_features, C=1.0)\n",
    "y_pred = predict(df_val, dv, model, train_features)\n",
    "y_pred_int = (y_pred >= 0.5).astype(int)\n",
    "accuracy = (y_pred_int == y_val).mean()\n",
    "accuracy\n",
    "\n",
    "fpr, tpr, thresholds = roc_curve(y_val, y_pred)\n",
    "fpr, tpr, thresholds\n",
    "\n",
    "auc(fpr, tpr), roc_auc_score(y_val, y_pred)\n",
    "\n",
    "# Answer is `0.89`\n"
   ]
  },
  {
   "cell_type": "code",
   "execution_count": 84,
   "metadata": {},
   "outputs": [
    {
     "data": {
      "text/plain": [
       "<matplotlib.legend.Legend at 0x1503da5d0>"
      ]
     },
     "execution_count": 84,
     "metadata": {},
     "output_type": "execute_result"
    },
    {
     "data": {
      "image/png": "[encoded data removed]",
      "text/plain": [
       "<Figure size 640x480 with 1 Axes>"
      ]
     },
     "metadata": {},
     "output_type": "display_data"
    }
   ],
   "source": [
    "plt.plot(fpr, tpr, label='model')\n",
    "plt.plot([0, 1], [0, 1], color='gray', linestyle='--')\n",
    "plt.xlabel(\"FPR\")\n",
    "plt.ylabel(\"TPR\")\n",
    "plt.legend()"
   ]
  },
  {
   "cell_type": "markdown",
   "metadata": {},
   "source": [
    "#@ Question 3: Precision and Recall\n",
    "\n",
    "Now let's compute precision and recall for our model.\n",
    "\n",
    "- Evaluate the model on all thresholds from 0.0 to 1.0 with step 0.01\n",
    "- For each threshold, compute precision and recall\n",
    "- Plot them\n",
    "\n",
    "At which threshold precision and recall curves intersect?\n",
    "\n",
    "- 0.265\n",
    "- 0.465\n",
    "- 0.665\n",
    "- 0.865\n"
   ]
  },
  {
   "cell_type": "code",
   "execution_count": 85,
   "metadata": {},
   "outputs": [
    {
     "data": {
      "text/plain": [
       "array([[0.86, 0.02],\n",
       "       [0.08, 0.04]])"
      ]
     },
     "execution_count": 85,
     "metadata": {},
     "output_type": "execute_result"
    }
   ],
   "source": [
    "thresholds = [0.5]\n",
    "\n",
    "def evaluate_model(thresholds):\n",
    "    scores = []\n",
    "    for t in thresholds:\n",
    "        train_features = categorical + numerical\n",
    "        dv, model = train(df_train, y_train, train_features, C=1.0)\n",
    "        y_pred = predict(df_val, dv, model, train_features)\n",
    "\n",
    "        pos_pred = (y_pred >= t)\n",
    "        neg_pred = (y_pred < t)\n",
    "        act_pos = (y_val == 1)\n",
    "        act_neg = (y_val == 0)\n",
    "\n",
    "        tp = (pos_pred & act_pos).sum()\n",
    "        tn = (neg_pred & act_neg).sum()\n",
    "        fp = (pos_pred & act_neg).sum()\n",
    "        fn = (neg_pred & act_pos).sum()\n",
    "        scores.append((t, tp, tn, fp, fn))\n",
    "    return scores\n",
    "    \n",
    "t, tp, tn, fp, fn = evaluate_model(thresholds)[0]\n",
    "# Check if the len is the same\n",
    "len(y_val), tp + tn + fp + fn\n",
    "\n",
    "confusion_matrix = np.array([\n",
    "    [tn, fp],\n",
    "    [fn, tp],\n",
    "])\n",
    "\n",
    "(confusion_matrix / confusion_matrix.sum()).round(2)\n"
   ]
  },
  {
   "cell_type": "code",
   "execution_count": null,
   "metadata": {},
   "outputs": [],
   "source": [
    "thresholds = np.linspace(0, 1, 100).round(2)\n",
    "evalutes = evaluate_model(thresholds)\n",
    "evalutes"
   ]
  },
  {
   "cell_type": "code",
   "execution_count": 248,
   "metadata": {},
   "outputs": [
    {
     "data": {
      "text/html": [
       "<div>\n",
       "<style scoped>\n",
       "    .dataframe tbody tr th:only-of-type {\n",
       "        vertical-align: middle;\n",
       "    }\n",
       "\n",
       "    .dataframe tbody tr th {\n",
       "        vertical-align: top;\n",
       "    }\n",
       "\n",
       "    .dataframe thead th {\n",
       "        text-align: right;\n",
       "    }\n",
       "</style>\n",
       "<table border=\"1\" class=\"dataframe\">\n",
       "  <thead>\n",
       "    <tr style=\"text-align: right;\">\n",
       "      <th></th>\n",
       "      <th>threshold</th>\n",
       "      <th>tp</th>\n",
       "      <th>tn</th>\n",
       "      <th>fp</th>\n",
       "      <th>fn</th>\n",
       "      <th>precision</th>\n",
       "      <th>recall</th>\n",
       "      <th>diff</th>\n",
       "    </tr>\n",
       "  </thead>\n",
       "  <tbody>\n",
       "    <tr>\n",
       "      <th>0</th>\n",
       "      <td>0.00</td>\n",
       "      <td>1098</td>\n",
       "      <td>0</td>\n",
       "      <td>7944</td>\n",
       "      <td>0</td>\n",
       "      <td>0.121433</td>\n",
       "      <td>1.000000</td>\n",
       "      <td>0.878567</td>\n",
       "    </tr>\n",
       "    <tr>\n",
       "      <th>1</th>\n",
       "      <td>0.01</td>\n",
       "      <td>1094</td>\n",
       "      <td>988</td>\n",
       "      <td>6956</td>\n",
       "      <td>4</td>\n",
       "      <td>0.135901</td>\n",
       "      <td>0.996357</td>\n",
       "      <td>0.860456</td>\n",
       "    </tr>\n",
       "    <tr>\n",
       "      <th>2</th>\n",
       "      <td>0.02</td>\n",
       "      <td>1093</td>\n",
       "      <td>2176</td>\n",
       "      <td>5768</td>\n",
       "      <td>5</td>\n",
       "      <td>0.159306</td>\n",
       "      <td>0.995446</td>\n",
       "      <td>0.836140</td>\n",
       "    </tr>\n",
       "    <tr>\n",
       "      <th>3</th>\n",
       "      <td>0.03</td>\n",
       "      <td>1086</td>\n",
       "      <td>3206</td>\n",
       "      <td>4738</td>\n",
       "      <td>12</td>\n",
       "      <td>0.186470</td>\n",
       "      <td>0.989071</td>\n",
       "      <td>0.802601</td>\n",
       "    </tr>\n",
       "    <tr>\n",
       "      <th>4</th>\n",
       "      <td>0.04</td>\n",
       "      <td>1067</td>\n",
       "      <td>4166</td>\n",
       "      <td>3778</td>\n",
       "      <td>31</td>\n",
       "      <td>0.220227</td>\n",
       "      <td>0.971767</td>\n",
       "      <td>0.751540</td>\n",
       "    </tr>\n",
       "    <tr>\n",
       "      <th>...</th>\n",
       "      <td>...</td>\n",
       "      <td>...</td>\n",
       "      <td>...</td>\n",
       "      <td>...</td>\n",
       "      <td>...</td>\n",
       "      <td>...</td>\n",
       "      <td>...</td>\n",
       "      <td>...</td>\n",
       "    </tr>\n",
       "    <tr>\n",
       "      <th>95</th>\n",
       "      <td>0.96</td>\n",
       "      <td>32</td>\n",
       "      <td>7927</td>\n",
       "      <td>17</td>\n",
       "      <td>1066</td>\n",
       "      <td>0.653061</td>\n",
       "      <td>0.029144</td>\n",
       "      <td>0.623917</td>\n",
       "    </tr>\n",
       "    <tr>\n",
       "      <th>96</th>\n",
       "      <td>0.97</td>\n",
       "      <td>25</td>\n",
       "      <td>7929</td>\n",
       "      <td>15</td>\n",
       "      <td>1073</td>\n",
       "      <td>0.625000</td>\n",
       "      <td>0.022769</td>\n",
       "      <td>0.602231</td>\n",
       "    </tr>\n",
       "    <tr>\n",
       "      <th>97</th>\n",
       "      <td>0.98</td>\n",
       "      <td>22</td>\n",
       "      <td>7934</td>\n",
       "      <td>10</td>\n",
       "      <td>1076</td>\n",
       "      <td>0.687500</td>\n",
       "      <td>0.020036</td>\n",
       "      <td>0.667464</td>\n",
       "    </tr>\n",
       "    <tr>\n",
       "      <th>98</th>\n",
       "      <td>0.99</td>\n",
       "      <td>10</td>\n",
       "      <td>7938</td>\n",
       "      <td>6</td>\n",
       "      <td>1088</td>\n",
       "      <td>0.625000</td>\n",
       "      <td>0.009107</td>\n",
       "      <td>0.615893</td>\n",
       "    </tr>\n",
       "    <tr>\n",
       "      <th>99</th>\n",
       "      <td>1.00</td>\n",
       "      <td>0</td>\n",
       "      <td>7944</td>\n",
       "      <td>0</td>\n",
       "      <td>1098</td>\n",
       "      <td>1.000000</td>\n",
       "      <td>0.000000</td>\n",
       "      <td>1.000000</td>\n",
       "    </tr>\n",
       "  </tbody>\n",
       "</table>\n",
       "<p>100 rows × 8 columns</p>\n",
       "</div>"
      ],
      "text/plain": [
       "    threshold    tp    tn    fp    fn  precision    recall      diff\n",
       "0        0.00  1098     0  7944     0   0.121433  1.000000  0.878567\n",
       "1        0.01  1094   988  6956     4   0.135901  0.996357  0.860456\n",
       "2        0.02  1093  2176  5768     5   0.159306  0.995446  0.836140\n",
       "3        0.03  1086  3206  4738    12   0.186470  0.989071  0.802601\n",
       "4        0.04  1067  4166  3778    31   0.220227  0.971767  0.751540\n",
       "..        ...   ...   ...   ...   ...        ...       ...       ...\n",
       "95       0.96    32  7927    17  1066   0.653061  0.029144  0.623917\n",
       "96       0.97    25  7929    15  1073   0.625000  0.022769  0.602231\n",
       "97       0.98    22  7934    10  1076   0.687500  0.020036  0.667464\n",
       "98       0.99    10  7938     6  1088   0.625000  0.009107  0.615893\n",
       "99       1.00     0  7944     0  1098   1.000000  0.000000  1.000000\n",
       "\n",
       "[100 rows x 8 columns]"
      ]
     },
     "execution_count": 248,
     "metadata": {},
     "output_type": "execute_result"
    }
   ],
   "source": [
    "df_evaluted = pd.DataFrame(evalutes, columns=[\"threshold\", \"tp\", \"tn\", \"fp\", \"fn\"])\n",
    "df_evaluted[\"precision\"] = df_evaluted.tp / (df_evaluted.tp + df_evaluted.fp)\n",
    "df_evaluted[\"precision\"] = df_evaluted[\"precision\"].fillna(1)\n",
    "df_evaluted[\"recall\"] = df_evaluted.tp / (df_evaluted.tp + df_evaluted.fn)\n",
    "df_evaluted[\"diff\"] = np.abs(df_evaluted.precision - df_evaluted.recall)\n",
    "\n",
    "df_evaluted\n",
    "\n"
   ]
  },
  {
   "cell_type": "code",
   "execution_count": 252,
   "metadata": {},
   "outputs": [
    {
     "data": {
      "text/plain": [
       "(27, 0.27)"
      ]
     },
     "execution_count": 252,
     "metadata": {},
     "output_type": "execute_result"
    }
   ],
   "source": [
    "idx_min = df_evaluted[\"diff\"].idxmin()\n",
    "intersection_threshold = df_evaluted.iloc[idx_min].threshold\n",
    "idx_min, intersection_threshold\n",
    "\n",
    "# Answer is `0.265`"
   ]
  },
  {
   "cell_type": "code",
   "execution_count": 254,
   "metadata": {},
   "outputs": [
    {
     "data": {
      "image/png": "[encoded data removed]",
      "text/plain": [
       "<Figure size 640x480 with 1 Axes>"
      ]
     },
     "metadata": {},
     "output_type": "display_data"
    }
   ],
   "source": [
    "plt.plot(df_evaluted[\"threshold\"], df_evaluted[\"precision\"])\n",
    "plt.plot(df_evaluted[\"threshold\"], df_evaluted[\"recall\"])\n",
    "plt.axvline(x=intersection_threshold, color='r', linestyle='--', label=f'Intersection at {intersection_threshold:.2f}')\n",
    "\n",
    "plt.xlabel(\"Threshold\")\n",
    "plt.ylabel(\"Score\")\n",
    "plt.title(\"Precision and Recall vs Threshold\")\n",
    "plt.legend()\n",
    "plt.grid(True)\n",
    "plt.show()"
   ]
  },
  {
   "cell_type": "markdown",
   "metadata": {},
   "source": [
    "## Question 4: F1 score\n",
    "\n",
    "Precision and recall are conflicting - when one grows, the other goes down. That's why they are often combined into the F1 score - a metrics that takes into account both\n",
    "\n",
    "This is the formula for computing F1:\n",
    "\n",
    "![alt text](images/image_1.png \"Title\")\n",
    "\n",
    "Where\n",
    "P\n",
    "is precision and\n",
    "R\n",
    "is recall.\n",
    "\n",
    "Let's compute F1 for all thresholds from 0.0 to 1.0 with increment 0.01\n",
    "\n",
    "At which threshold F1 is maximal?\n",
    "\n",
    "- 0.02\n",
    "- 0.22\n",
    "- 0.42\n",
    "- 0.62\n"
   ]
  },
  {
   "cell_type": "code",
   "execution_count": 262,
   "metadata": {},
   "outputs": [
    {
     "data": {
      "text/html": [
       "<div>\n",
       "<style scoped>\n",
       "    .dataframe tbody tr th:only-of-type {\n",
       "        vertical-align: middle;\n",
       "    }\n",
       "\n",
       "    .dataframe tbody tr th {\n",
       "        vertical-align: top;\n",
       "    }\n",
       "\n",
       "    .dataframe thead th {\n",
       "        text-align: right;\n",
       "    }\n",
       "</style>\n",
       "<table border=\"1\" class=\"dataframe\">\n",
       "  <thead>\n",
       "    <tr style=\"text-align: right;\">\n",
       "      <th></th>\n",
       "      <th>threshold</th>\n",
       "      <th>tp</th>\n",
       "      <th>tn</th>\n",
       "      <th>fp</th>\n",
       "      <th>fn</th>\n",
       "      <th>precision</th>\n",
       "      <th>recall</th>\n",
       "      <th>f1</th>\n",
       "    </tr>\n",
       "  </thead>\n",
       "  <tbody>\n",
       "    <tr>\n",
       "      <th>0</th>\n",
       "      <td>0.00</td>\n",
       "      <td>1098</td>\n",
       "      <td>0</td>\n",
       "      <td>7944</td>\n",
       "      <td>0</td>\n",
       "      <td>0.121433</td>\n",
       "      <td>1.000000</td>\n",
       "      <td>0.216568</td>\n",
       "    </tr>\n",
       "    <tr>\n",
       "      <th>1</th>\n",
       "      <td>0.01</td>\n",
       "      <td>1094</td>\n",
       "      <td>988</td>\n",
       "      <td>6956</td>\n",
       "      <td>4</td>\n",
       "      <td>0.135901</td>\n",
       "      <td>0.996357</td>\n",
       "      <td>0.239178</td>\n",
       "    </tr>\n",
       "    <tr>\n",
       "      <th>2</th>\n",
       "      <td>0.02</td>\n",
       "      <td>1093</td>\n",
       "      <td>2176</td>\n",
       "      <td>5768</td>\n",
       "      <td>5</td>\n",
       "      <td>0.159306</td>\n",
       "      <td>0.995446</td>\n",
       "      <td>0.274658</td>\n",
       "    </tr>\n",
       "    <tr>\n",
       "      <th>3</th>\n",
       "      <td>0.03</td>\n",
       "      <td>1086</td>\n",
       "      <td>3206</td>\n",
       "      <td>4738</td>\n",
       "      <td>12</td>\n",
       "      <td>0.186470</td>\n",
       "      <td>0.989071</td>\n",
       "      <td>0.313782</td>\n",
       "    </tr>\n",
       "    <tr>\n",
       "      <th>4</th>\n",
       "      <td>0.04</td>\n",
       "      <td>1067</td>\n",
       "      <td>4166</td>\n",
       "      <td>3778</td>\n",
       "      <td>31</td>\n",
       "      <td>0.220227</td>\n",
       "      <td>0.971767</td>\n",
       "      <td>0.359078</td>\n",
       "    </tr>\n",
       "    <tr>\n",
       "      <th>...</th>\n",
       "      <td>...</td>\n",
       "      <td>...</td>\n",
       "      <td>...</td>\n",
       "      <td>...</td>\n",
       "      <td>...</td>\n",
       "      <td>...</td>\n",
       "      <td>...</td>\n",
       "      <td>...</td>\n",
       "    </tr>\n",
       "    <tr>\n",
       "      <th>95</th>\n",
       "      <td>0.96</td>\n",
       "      <td>32</td>\n",
       "      <td>7927</td>\n",
       "      <td>17</td>\n",
       "      <td>1066</td>\n",
       "      <td>0.653061</td>\n",
       "      <td>0.029144</td>\n",
       "      <td>0.055798</td>\n",
       "    </tr>\n",
       "    <tr>\n",
       "      <th>96</th>\n",
       "      <td>0.97</td>\n",
       "      <td>25</td>\n",
       "      <td>7929</td>\n",
       "      <td>15</td>\n",
       "      <td>1073</td>\n",
       "      <td>0.625000</td>\n",
       "      <td>0.022769</td>\n",
       "      <td>0.043937</td>\n",
       "    </tr>\n",
       "    <tr>\n",
       "      <th>97</th>\n",
       "      <td>0.98</td>\n",
       "      <td>22</td>\n",
       "      <td>7934</td>\n",
       "      <td>10</td>\n",
       "      <td>1076</td>\n",
       "      <td>0.687500</td>\n",
       "      <td>0.020036</td>\n",
       "      <td>0.038938</td>\n",
       "    </tr>\n",
       "    <tr>\n",
       "      <th>98</th>\n",
       "      <td>0.99</td>\n",
       "      <td>10</td>\n",
       "      <td>7938</td>\n",
       "      <td>6</td>\n",
       "      <td>1088</td>\n",
       "      <td>0.625000</td>\n",
       "      <td>0.009107</td>\n",
       "      <td>0.017953</td>\n",
       "    </tr>\n",
       "    <tr>\n",
       "      <th>99</th>\n",
       "      <td>1.00</td>\n",
       "      <td>0</td>\n",
       "      <td>7944</td>\n",
       "      <td>0</td>\n",
       "      <td>1098</td>\n",
       "      <td>1.000000</td>\n",
       "      <td>0.000000</td>\n",
       "      <td>0.000000</td>\n",
       "    </tr>\n",
       "  </tbody>\n",
       "</table>\n",
       "<p>100 rows × 8 columns</p>\n",
       "</div>"
      ],
      "text/plain": [
       "    threshold    tp    tn    fp    fn  precision    recall        f1\n",
       "0        0.00  1098     0  7944     0   0.121433  1.000000  0.216568\n",
       "1        0.01  1094   988  6956     4   0.135901  0.996357  0.239178\n",
       "2        0.02  1093  2176  5768     5   0.159306  0.995446  0.274658\n",
       "3        0.03  1086  3206  4738    12   0.186470  0.989071  0.313782\n",
       "4        0.04  1067  4166  3778    31   0.220227  0.971767  0.359078\n",
       "..        ...   ...   ...   ...   ...        ...       ...       ...\n",
       "95       0.96    32  7927    17  1066   0.653061  0.029144  0.055798\n",
       "96       0.97    25  7929    15  1073   0.625000  0.022769  0.043937\n",
       "97       0.98    22  7934    10  1076   0.687500  0.020036  0.038938\n",
       "98       0.99    10  7938     6  1088   0.625000  0.009107  0.017953\n",
       "99       1.00     0  7944     0  1098   1.000000  0.000000  0.000000\n",
       "\n",
       "[100 rows x 8 columns]"
      ]
     },
     "execution_count": 262,
     "metadata": {},
     "output_type": "execute_result"
    }
   ],
   "source": [
    "df_f1 = pd.DataFrame(evalutes, columns=[\"threshold\", \"tp\", \"tn\", \"fp\", \"fn\"])\n",
    "df_f1[\"precision\"] = df_f1.tp / (df_f1.tp + df_f1.fp)\n",
    "df_f1[\"precision\"] = df_f1[\"precision\"].fillna(1)\n",
    "df_f1[\"recall\"] = df_f1.tp / (df_f1.tp + df_f1.fn)\n",
    "df_f1[\"f1\"] = 2 * ((df_f1.precision * df_f1.recall) / (df_f1.precision + df_f1.recall))\n",
    "df_f1"
   ]
  },
  {
   "cell_type": "code",
   "execution_count": 263,
   "metadata": {},
   "outputs": [
    {
     "data": {
      "text/plain": [
       "threshold    0\n",
       "tp           0\n",
       "tn           0\n",
       "fp           0\n",
       "fn           0\n",
       "precision    0\n",
       "recall       0\n",
       "f1           0\n",
       "dtype: int64"
      ]
     },
     "execution_count": 263,
     "metadata": {},
     "output_type": "execute_result"
    }
   ],
   "source": [
    "df_f1.isnull().sum()"
   ]
  },
  {
   "cell_type": "code",
   "execution_count": 265,
   "metadata": {},
   "outputs": [
    {
     "data": {
      "text/plain": [
       "(22, 0.22, 0.5736820257368203)"
      ]
     },
     "execution_count": 265,
     "metadata": {},
     "output_type": "execute_result"
    }
   ],
   "source": [
    "idx_max = df_f1[\"f1\"].idxmax()\n",
    "f1_max_threshold = df_f1.iloc[idx_max].threshold\n",
    "idx_max, f1_max_threshold, df_f1.iloc[idx_max].f1"
   ]
  },
  {
   "cell_type": "code",
   "execution_count": 260,
   "metadata": {},
   "outputs": [
    {
     "name": "stderr",
     "output_type": "stream",
     "text": [
      "/var/folders/wq/xxr4ff9s1hg945mqypn203yskzqq0j/T/ipykernel_72510/914940413.py:8: UserWarning: No artists with labels found to put in legend.  Note that artists whose label start with an underscore are ignored when legend() is called with no argument.\n",
      "  plt.legend()\n"
     ]
    },
    {
     "data": {
      "image/png": "[encoded data removed]",
      "text/plain": [
       "<Figure size 640x480 with 1 Axes>"
      ]
     },
     "metadata": {},
     "output_type": "display_data"
    }
   ],
   "source": [
    "plt.plot(df_f1[\"threshold\"], df_f1[\"f1\"])\n",
    "plt.xlabel(\"Threshold\")\n",
    "plt.ylabel(\"F1 score\")\n",
    "plt.title(\"F1 score vs Threshold\")\n",
    "plt.legend()\n",
    "plt.grid(True)\n",
    "plt.show()\n",
    "\n",
    "# Answer is `0.22`"
   ]
  },
  {
   "cell_type": "markdown",
   "metadata": {},
   "source": [
    "## Question 5: 5-Fold CV\n",
    "\n",
    "Use the KFold class from Scikit-Learn to evaluate our model on 5 different folds:\n",
    "\n",
    "KFold(n_splits=5, shuffle=True, random_state=1)\n",
    "\n",
    "- Iterate over different folds of df_full_train\n",
    "- Split the data into train and validation\n",
    "- Train the model on train with these parameters: LogisticRegression(solver='liblinear', C=1.0, max_iter=1000)\n",
    "- Use AUC to evaluate the model on validation\n",
    "\n",
    "How large is standard deviation of the scores across different folds?\n",
    "\n",
    "- 0.0001\n",
    "- 0.006\n",
    "- 0.06\n",
    "- 0.26\n"
   ]
  },
  {
   "cell_type": "code",
   "execution_count": 48,
   "metadata": {},
   "outputs": [
    {
     "data": {
      "text/plain": [
       "[0.8991066306040488,\n",
       " 0.8988958506935749,\n",
       " 0.911149576951329,\n",
       " 0.9079748009686723,\n",
       " 0.9120918352270209]"
      ]
     },
     "execution_count": 48,
     "metadata": {},
     "output_type": "execute_result"
    }
   ],
   "source": [
    "from turtle import mode\n",
    "from sklearn.model_selection import KFold\n",
    "\n",
    "def train_full(df, y_train, C=1.0):\n",
    "    dicts = df.to_dict(orient=\"records\")\n",
    "    dv = DictVectorizer(sparse=False)\n",
    "    X_train = dv.fit_transform(dicts)\n",
    "    model = LogisticRegression(solver='liblinear', C=C, max_iter=1000)\n",
    "    model.fit(X_train, y_train)\n",
    "    return dv, model\n",
    "\n",
    "def predict_full(df, dv, model):\n",
    "    dicts = df.to_dict(orient=\"records\")\n",
    "    X_val = dv.transform(dicts)\n",
    "    y_pred = model.predict_proba(X_val)[:, 1]\n",
    "    return y_pred\n",
    "\n",
    "def evaluate_model(C, n_splits = 5):\n",
    "    kfold = KFold(n_splits=n_splits, shuffle=True, random_state=1)\n",
    "    scores = []\n",
    "\n",
    "    for train_idx, test_idx in kfold.split(df_full_train):    \n",
    "        df_train_kfold = df_full_train.iloc[train_idx]\n",
    "        df_val_kfold = df_full_train.iloc[test_idx]\n",
    "\n",
    "        y_train_kfold = y_full_train[train_idx]\n",
    "        y_val_kfold = y_full_train[test_idx]\n",
    "        \n",
    "        dv, model = train_full(df_train_kfold, y_train_kfold, C)\n",
    "        y_pred = predict_full(df_val_kfold, dv, model)\n",
    "\n",
    "        score = roc_auc_score(y_val_kfold, y_pred)\n",
    "        scores.append(score)\n",
    "\n",
    "    return scores\n",
    "\n",
    "scores = evaluate_model(C=1.0)\n",
    "scores"
   ]
  },
  {
   "cell_type": "code",
   "execution_count": 49,
   "metadata": {},
   "outputs": [
    {
     "data": {
      "text/plain": [
       "0.006"
      ]
     },
     "execution_count": 49,
     "metadata": {},
     "output_type": "execute_result"
    }
   ],
   "source": [
    "round(np.std(scores), 3)\n",
    "\n",
    "# Answer is `0.006`"
   ]
  },
  {
   "cell_type": "markdown",
   "metadata": {},
   "source": [
    "## Question 6: Hyperparameter Tuning\n",
    "\n",
    "Now let's use 5-Fold cross-validation to find the best parameter C\n",
    "\n",
    "- Iterate over the following C values: [0.000001, 0.001, 1]\n",
    "- Initialize KFold with the same parameters as previously\n",
    "- Use these parameters for the model: LogisticRegression(solver='liblinear', C=C, max_iter=1000)\n",
    "- Compute the mean score as well as the std (round the mean and std to 3 decimal digits)\n",
    "\n",
    "Which C leads to the best mean score?\n",
    "\n",
    "- 0.000001\n",
    "- 0.001\n",
    "- 1\n",
    "\n",
    "If you have ties, select the score with the lowest std. If you still have ties, select the smallest C.\n"
   ]
  },
  {
   "cell_type": "code",
   "execution_count": 54,
   "metadata": {},
   "outputs": [
    {
     "name": "stdout",
     "output_type": "stream",
     "text": [
      "C: 1e-06, mean: 0.701445 std: 0.009444\n",
      "C: 0.001, mean: 0.861053 std: 0.006623\n",
      "C: 1, mean: 0.905844 std: 0.005751\n"
     ]
    }
   ],
   "source": [
    "C = [0.000001, 0.001, 1]\n",
    "\n",
    "for c_value in C:\n",
    "    scores = evaluate_model(c_value)\n",
    "    std = np.std(scores)\n",
    "    mean = np.mean(scores)\n",
    "    print(f\"C: {c_value}, mean: {mean:3f} std: {std:3f}\" )\n",
    "\n",
    "# Answer is `1`"
   ]
  }
 ],
 "metadata": {
  "kernelspec": {
   "display_name": "ml-zoomcamp",
   "language": "python",
   "name": "python3"
  },
  "language_info": {
   "codemirror_mode": {
    "name": "ipython",
    "version": 3
   },
   "file_extension": ".py",
   "mimetype": "text/x-python",
   "name": "python",
   "nbconvert_exporter": "python",
   "pygments_lexer": "ipython3",
   "version": "3.11.9"
  }
 },
 "nbformat": 4,
 "nbformat_minor": 2
}
